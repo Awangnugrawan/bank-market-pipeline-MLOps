{
 "cells": [
  {
   "cell_type": "markdown",
   "metadata": {},
   "source": [
    "# Import library"
   ]
  },
  {
   "cell_type": "code",
   "execution_count": 57,
   "metadata": {},
   "outputs": [],
   "source": [
    "import tensorflow as tf\n",
    "import requests\n",
    "import json\n",
    "import base64\n",
    "import requests\n",
    "from pprint import PrettyPrinter\n",
    "import requests\n"
   ]
  },
  {
   "cell_type": "code",
   "execution_count": 58,
   "metadata": {},
   "outputs": [
    {
     "name": "stdout",
     "output_type": "stream",
     "text": [
      "{'model_version_status': [{'state': 'AVAILABLE',\n",
      "                           'status': {'error_code': 'OK', 'error_message': ''},\n",
      "                           'version': '1695183648'}]}\n"
     ]
    }
   ],
   "source": [
    "pp = PrettyPrinter()\n",
    "pp.pprint(requests.get(\"https://bankmarket-prediction-production.up.railway.app/v1/models/bank-model\").json())"
   ]
  },
  {
   "cell_type": "markdown",
   "metadata": {},
   "source": [
    "# Set data test to predict"
   ]
  },
  {
   "cell_type": "code",
   "execution_count": 59,
   "metadata": {},
   "outputs": [],
   "source": [
    "data_test= [\n",
    "    {\n",
    "        \"age\": 59,\n",
    "        \"job\": \"admin\",\n",
    "        \"marital\": \"married\",\n",
    "        \"education\": \"secondary\",\n",
    "        \"default\": \"no\",\n",
    "        \"balance\": 2343,\n",
    "        \"housing\": \"yes\",\n",
    "        \"loan\": \"no\",\n",
    "        \"contact\": \"unknown\",\n",
    "        \"day\": 5,\n",
    "        \"month\": \"may\",\n",
    "        \"duration\": 1042,\n",
    "        \"campaign\": 1,\n",
    "        \"pdays\": -1,\n",
    "        \"previous\": 0,\n",
    "        \"poutcome\": \"unknown\",\n",
    "    },\n",
    "    {\n",
    "        \"age\": 56,\n",
    "        \"job\": \"admin\",\n",
    "        \"marital\": \"married\",\n",
    "        \"education\": \"secondary\",\n",
    "        \"default\": \"no\",\n",
    "        \"balance\": 45,\n",
    "        \"housing\": \"no\",\n",
    "        \"loan\": \"no\",\n",
    "        \"contact\": \"unknown\",\n",
    "        \"day\": 5,\n",
    "        \"month\": \"may\",\n",
    "        \"duration\": 1467,\n",
    "        \"campaign\": 1,\n",
    "        \"pdays\": -1,\n",
    "        \"previous\": 0,\n",
    "        \"poutcome\": \"unknown\",\n",
    "    },\n",
    "    {\n",
    "        \"age\": 41,\n",
    "        \"job\": \"technician\",\n",
    "        \"marital\": \"married\",\n",
    "        \"education\": \"secondary\",\n",
    "        \"default\": \"no\",\n",
    "        \"balance\": 1270,\n",
    "        \"housing\": \"yes\",\n",
    "        \"loan\": \"no\",\n",
    "        \"contact\": \"unknown\",\n",
    "        \"day\": 5,\n",
    "        \"month\": \"may\",\n",
    "        \"duration\": 1389,\n",
    "        \"campaign\": 1,\n",
    "        \"pdays\": -1,\n",
    "        \"previous\": 0,\n",
    "        \"poutcome\": \"unknown\",\n",
    "    },\n",
    "    {\n",
    "    \"age\": 33,\n",
    "    \"job\": \"blue-collar\",\n",
    "    \"marital\": \"single\",\n",
    "    \"education\": \"primary\",\n",
    "    \"default\": \"no\",\n",
    "    \"balance\": 1,\n",
    "    \"housing\": \"yes\",\n",
    "    \"loan\": \"no\",\n",
    "    \"contact\": \"cellular\",\n",
    "    \"day\": 20,\n",
    "    \"month\": \"apr\",\n",
    "    \"duration\": 257,\n",
    "    \"campaign\": 1,\n",
    "    \"pdays\": -1,\n",
    "    \"previous\": 0,\n",
    "    \"poutcome\": \"unknown\",\n",
    "},\n",
    "{\n",
    "    \"age\": 43,\n",
    "    \"job\": \"technician\",\n",
    "    \"marital\": \"married\",\n",
    "    \"education\": \"secondary\",\n",
    "    \"default\": \"no\",\n",
    "    \"balance\": 0,\n",
    "    \"housing\": \"no\",\n",
    "    \"loan\": \"yes\",\n",
    "    \"contact\": \"cellular\",\n",
    "    \"day\": 8,\n",
    "    \"month\": \"may\",\n",
    "    \"duration\": 9,\n",
    "    \"campaign\": 2,\n",
    "    \"pdays\": 172,\n",
    "    \"previous\": 5,\n",
    "    \"poutcome\": \"failure\",\n",
    "}\n",
    "\n",
    "]\n"
   ]
  },
  {
   "cell_type": "markdown",
   "metadata": {},
   "source": [
    "# Prepocessing Data test"
   ]
  },
  {
   "cell_type": "code",
   "execution_count": 85,
   "metadata": {},
   "outputs": [],
   "source": [
    "def string_feature(value):\n",
    "    return tf.train.Feature(\n",
    "        bytes_list=tf.train.BytesList(\n",
    "            value=[bytes(value, \"utf-8\")]\n",
    "        ),\n",
    "    )\n",
    "    \n",
    "def int_feature(value):\n",
    "    return tf.train.Feature(\n",
    "        int64_list=tf.train.Int64List(\n",
    "            value=[value]\n",
    "        ),\n",
    "    )"
   ]
  },
  {
   "cell_type": "code",
   "execution_count": 86,
   "metadata": {},
   "outputs": [],
   "source": [
    "def prepare_json_for_serving(inputs: dict):\n",
    "    data = dict()\n",
    "    \n",
    "    for keys, values in inputs.items():\n",
    "        if isinstance(values, int):\n",
    "            data[keys] = int_feature(values)\n",
    "        elif isinstance(values, str):\n",
    "            data[keys] = string_feature(values)\n",
    "            \n",
    "    example = tf.train.Example(\n",
    "        features=tf.train.Features(feature=data)\n",
    "    ).SerializeToString()\n",
    "        \n",
    "    result = [\n",
    "        {\n",
    "            \"examples\": {\n",
    "                \"b64\": base64.b64encode(example).decode()\n",
    "            }\n",
    "        }\n",
    "    ]\n",
    "    \n",
    "    return json.dumps({\n",
    "        \"signature_name\": \"serving_default\",\n",
    "        \"instances\": result,\n",
    "    })"
   ]
  },
  {
   "cell_type": "code",
   "execution_count": 87,
   "metadata": {},
   "outputs": [],
   "source": [
    "def predict_depo(inputs):\n",
    "    json_data = prepare_json_for_serving(inputs)\n",
    "    \n",
    "    endpoint = \"https://bankmarket-prediction-production.up.railway.app/v1/models/bank-model:predict\"\n",
    "    response = requests.post(endpoint, data=json_data)\n",
    "    prediction = response.json()\n",
    "\n",
    "    prediction = response.json()[\"predictions\"][0][0]\n",
    "    \n",
    "    if prediction < 0.6:\n",
    "        return \"Deposit\"\n",
    "    else:\n",
    "        return \"No deposit\""
   ]
  },
  {
   "cell_type": "markdown",
   "metadata": {},
   "source": [
    "# Make prediction"
   ]
  },
  {
   "cell_type": "code",
   "execution_count": 84,
   "metadata": {},
   "outputs": [
    {
     "name": "stdout",
     "output_type": "stream",
     "text": [
      "Deposit\n",
      "Deposit\n",
      "No deposit\n",
      "Deposit\n",
      "Deposit\n"
     ]
    }
   ],
   "source": [
    "for text in data_test:\n",
    "    result = predict_depo(text)\n",
    "    print(result)"
   ]
  }
 ],
 "metadata": {
  "kernelspec": {
   "display_name": "Python 3",
   "language": "python",
   "name": "python3"
  },
  "language_info": {
   "codemirror_mode": {
    "name": "ipython",
    "version": 3
   },
   "file_extension": ".py",
   "mimetype": "text/x-python",
   "name": "python",
   "nbconvert_exporter": "python",
   "pygments_lexer": "ipython3",
   "version": "3.7.0"
  },
  "orig_nbformat": 4
 },
 "nbformat": 4,
 "nbformat_minor": 2
}
